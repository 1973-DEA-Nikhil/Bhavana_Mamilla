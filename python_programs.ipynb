{
 "cells": [
  {
   "cell_type": "code",
   "execution_count": 17,
   "id": "7d21e367-62d3-4e21-b782-f7cd2659308e",
   "metadata": {},
   "outputs": [
    {
     "name": "stdout",
     "output_type": "stream",
     "text": [
      "second max element is 6\n"
     ]
    }
   ],
   "source": [
    "\"\"\"\n",
    "Write a python program to find the 2nd maximum\n",
    "value in a list without using any in-built function.\n",
    "\"\"\"\n",
    "\n",
    "lst=[1,2,5,4,3,7,6]\n",
    "first_max=float(\"-inf\")\n",
    "for i in lst:\n",
    "    if i > first_max:\n",
    "        first_max = i\n",
    "second_max = float('-inf')\n",
    "for i in lst:\n",
    "    if i > second_max and i!=first_max:\n",
    "        second_max = i\n",
    "print(\"second max element is\",second_max)\n"
   ]
  },
  {
   "cell_type": "code",
   "execution_count": 18,
   "id": "66f5ddda-89a3-4237-992b-c7e55aac2929",
   "metadata": {},
   "outputs": [
    {
     "name": "stdout",
     "output_type": "stream",
     "text": [
      "reverse list [5, 4, 3, 2, 1]\n"
     ]
    }
   ],
   "source": [
    "\"\"\"\n",
    "Write a python program to reverse a list without\n",
    "using any in-built function or slicing.\n",
    "\"\"\"\n",
    "lst = [1,2,3,4,5]\n",
    "new_lst=[]\n",
    "for i in range(1, len(lst)+1):\n",
    "    new_lst.append(lst[-i])\n",
    "print(\"reverse list\",new_lst)"
   ]
  },
  {
   "cell_type": "code",
   "execution_count": 19,
   "id": "f11d228f-a641-40b1-a171-a47b6903f63f",
   "metadata": {},
   "outputs": [
    {
     "name": "stdout",
     "output_type": "stream",
     "text": [
      "Sorted list [1, 2, 3, 5, 6, 7]\n"
     ]
    }
   ],
   "source": [
    "\"\"\"\n",
    "Write a python program to sort the list without\n",
    "using any function\n",
    "\"\"\"\n",
    "lst = [2,1,3,6,5,7]\n",
    "n = len(lst)\n",
    "for i in range(n):\n",
    "    for j in range(0, n-i-1):\n",
    "        if lst[j] > lst[j + 1]:\n",
    "            temp=lst[j]\n",
    "            lst[j]=lst[j + 1]\n",
    "            lst[j + 1]=temp\n",
    "print(\"Sorted list\",lst)\n"
   ]
  },
  {
   "cell_type": "code",
   "execution_count": 20,
   "id": "4784d75e-c670-46a5-ad65-f6dc40263deb",
   "metadata": {},
   "outputs": [
    {
     "name": "stdout",
     "output_type": "stream",
     "text": [
      "yes given string is palindrome\n"
     ]
    }
   ],
   "source": [
    "\"\"\"\n",
    "Write a Python program to check if a string is a palindrome.\n",
    "\"\"\"\n",
    "def palindrome(s):\n",
    "    return s==s[::-1]\n",
    "\n",
    "s=\"mom\"\n",
    "ans=palindrome(s)\n",
    "if ans:\n",
    "    print(\"yes given string is palindrome\")\n",
    "else:\n",
    "    print(\"given string is not palindrome\")"
   ]
  },
  {
   "cell_type": "code",
   "execution_count": 21,
   "id": "2351c97f-a263-4410-8373-0a5d0aad4406",
   "metadata": {},
   "outputs": [
    {
     "name": "stdout",
     "output_type": "stream",
     "text": [
      "120\n"
     ]
    }
   ],
   "source": [
    "\"\"\"\n",
    "Write a Python program to find the factorial of a number.\n",
    "\"\"\"\n",
    "def factorial(n):\n",
    "    if n<0:\n",
    "        print(\"Incorrect input\")\n",
    "    elif n==1:\n",
    "        return 1\n",
    "    elif n==2:\n",
    "        return 2\n",
    "    else:\n",
    "        return n*factorial(n-1)\n",
    "\n",
    "print(factorial(5))"
   ]
  },
  {
   "cell_type": "code",
   "execution_count": 22,
   "id": "965c2966-530e-4fde-9e86-aa28e416b06b",
   "metadata": {},
   "outputs": [
    {
     "name": "stdout",
     "output_type": "stream",
     "text": [
      "largest element in list is 20\n"
     ]
    }
   ],
   "source": [
    "\"\"\"\n",
    "Write a Python program to find the largest element in a list.\n",
    "\"\"\"\n",
    "lst=[2,7,9,10,20]\n",
    "largest=lst[0]\n",
    "for i in lst:\n",
    "    if i>largest:\n",
    "        largest=i\n",
    "print(\"largest element in list is\",i)\n",
    "        "
   ]
  },
  {
   "cell_type": "code",
   "execution_count": 23,
   "id": "78fcc055-c69a-4f14-b5c3-6b474956aa2d",
   "metadata": {},
   "outputs": [
    {
     "name": "stdout",
     "output_type": "stream",
     "text": [
      "string reverse is anavahb\n"
     ]
    }
   ],
   "source": [
    "\"\"\"\n",
    "Write a Python program to reverse a string.\n",
    "\"\"\"\n",
    "def reverse(string):\n",
    "    return string[::-1]\n",
    "x=\"bhavana\"    \n",
    "reverse_string=reverse(x)\n",
    "print(\"string reverse is\",reverse_string)"
   ]
  },
  {
   "cell_type": "code",
   "execution_count": 24,
   "id": "f0b6b908-dbd1-4bb8-b9f0-40f25cdebd6c",
   "metadata": {},
   "outputs": [
    {
     "name": "stdout",
     "output_type": "stream",
     "text": [
      "{1: 2, 2: 1, 3: 3, 7: 1, 8: 1, 9: 1, 6: 1}\n"
     ]
    }
   ],
   "source": [
    "\"\"\"\n",
    "Write a Python program to count the frequency of each element in a list.\n",
    "\"\"\"\n",
    "def count_frequency(lst):\n",
    "    frequency = {}\n",
    "    for i in lst:\n",
    "        if i in frequency:\n",
    "            frequency[i] += 1\n",
    "        else:\n",
    "            frequency[i] = 1\n",
    "    return frequency\n",
    "\n",
    "lst=[1,2,3,7,8,9,3,3,6,1]   \n",
    "frequency_count = count_frequency(lst)\n",
    "print(frequency_count)"
   ]
  },
  {
   "cell_type": "code",
   "execution_count": 26,
   "id": "ec8f038d-bc90-43d5-b7cf-33a0372a94f4",
   "metadata": {},
   "outputs": [
    {
     "name": "stdin",
     "output_type": "stream",
     "text": [
      "enter a number:  3\n"
     ]
    },
    {
     "name": "stdout",
     "output_type": "stream",
     "text": [
      "3 is a prime number\n"
     ]
    }
   ],
   "source": [
    "\"\"\"\n",
    "Write a Python program to check if a number is prime.\n",
    "\"\"\"\n",
    "num = int(input(\"enter a number: \"))\n",
    "if num > 1:\n",
    "    for i in range(2,num):\n",
    "        if num % i==0:\n",
    "            print(num,\"is not a prime number\")\n",
    "            break\n",
    "    else:\n",
    "        print(num,\"is a prime number\")\n",
    "else:\n",
    "    print(num,\"is not a prime number\")"
   ]
  },
  {
   "cell_type": "code",
   "execution_count": 27,
   "id": "5f191a4a-f655-454c-889c-4385377f2175",
   "metadata": {},
   "outputs": [
    {
     "name": "stdout",
     "output_type": "stream",
     "text": [
      "Common elements are [2, 4, 5, 6]\n"
     ]
    }
   ],
   "source": [
    "\"\"\"\n",
    "Write a Python program to find the common elements between two lists.\n",
    "\"\"\"\n",
    "l1=[1,2,3,4,5,6]\n",
    "l2=[4,5,6,7,8,2]\n",
    "common_elements=[]\n",
    "for element in l1:\n",
    "    if element in l2:\n",
    "        common_elements.append(element)\n",
    "print(\"Common elements are\",common_elements)"
   ]
  },
  {
   "cell_type": "code",
   "execution_count": 28,
   "id": "1af5e4db-3d41-4300-a827-2fec50ecfe37",
   "metadata": {},
   "outputs": [
    {
     "name": "stdout",
     "output_type": "stream",
     "text": [
      "Sorted list is [10, 11, 20, 22, 30, 35, 40]\n"
     ]
    }
   ],
   "source": [
    "\"\"\"\n",
    "Write a Python program to sort a list of elements using the bubble sort\n",
    "algorithm.\n",
    "\"\"\"\n",
    "lst=[40,35,30,20,22,11,10]\n",
    "n=len(lst)\n",
    "for i in range(n):\n",
    "    for j in range(0,n-i-1):\n",
    "        if lst[j] > lst[j+1]:\n",
    "            lst[j],lst[j+1]=lst[j+1],lst[j]\n",
    "print(\"Sorted list is\", lst)\n"
   ]
  },
  {
   "cell_type": "code",
   "execution_count": 29,
   "id": "93343274-7f4a-4399-9661-d6e8ce209490",
   "metadata": {},
   "outputs": [
    {
     "name": "stdout",
     "output_type": "stream",
     "text": [
      "[1, 2, 3, 4]\n",
      "The second largest number is: 4\n"
     ]
    }
   ],
   "source": [
    "\"\"\"\n",
    "Write a Python program to find the second largest number in a list.\n",
    "\"\"\"\n",
    "lst = [1,2,3,4,5]\n",
    "lst.remove(max(lst))\n",
    "print(lst)\n",
    "second_max=max(lst)\n",
    "print(\"The second largest number is:\",second_max)"
   ]
  },
  {
   "cell_type": "code",
   "execution_count": 30,
   "id": "4c43ee65-107d-4c16-919d-677d41fec118",
   "metadata": {},
   "outputs": [
    {
     "name": "stdout",
     "output_type": "stream",
     "text": [
      "list after removing duplicates [1, 2, 3, 4, 5, 6, 7]\n"
     ]
    }
   ],
   "source": [
    "\"\"\"\n",
    "Write a Python program to remove duplicates from a list.\n",
    "\"\"\"\n",
    "lst=[1,1,2,2,3,4,1,5,6,5,7]\n",
    "unique_lst=[]\n",
    "for i in lst:\n",
    "    if i not in unique_lst:\n",
    "        unique_lst.append(i)\n",
    "print(\"list after removing duplicates\",unique_lst)\n"
   ]
  },
  {
   "cell_type": "code",
   "execution_count": 31,
   "id": "2ebe6098-c2c9-44f2-b4c3-7bda674cf6d1",
   "metadata": {},
   "outputs": [
    {
     "name": "stdout",
     "output_type": "stream",
     "text": [
      "The missing number is 3\n"
     ]
    }
   ],
   "source": [
    "\"\"\"\n",
    "Find missing number in list.\n",
    "\"\"\"\n",
    "def missing_number(lst):\n",
    "    n = len(lst) + 1  \n",
    "    total_sum=n * (n + 1) // 2  \n",
    "    actual_sum=sum(lst)  \n",
    "    return total_sum - actual_sum \n",
    "lst = [1,2,4,5,6]  \n",
    "missing_number=missing_number(lst)\n",
    "print(\"The missing number is\",missing_number)\n"
   ]
  },
  {
   "cell_type": "code",
   "execution_count": 32,
   "id": "963981eb-4122-4372-84bb-57e70a409764",
   "metadata": {},
   "outputs": [
    {
     "name": "stdout",
     "output_type": "stream",
     "text": [
      "The second occurrence of 3 is at index 6\n"
     ]
    }
   ],
   "source": [
    "\"\"\"\n",
    "Find second occurrence.\n",
    "\"\"\"\n",
    "lst = [1,2,3,4,2,5,3]\n",
    "element = 3\n",
    "first_occ=lst.index(element)\n",
    "second_occ=lst.index(element,first_occ+1)\n",
    "print(\"The second occurrence of\", element, \"is at index\", second_occ)\n"
   ]
  },
  {
   "cell_type": "code",
   "execution_count": 33,
   "id": "3879310d-c7e6-4515-ac99-505a15835497",
   "metadata": {},
   "outputs": [
    {
     "name": "stdout",
     "output_type": "stream",
     "text": [
      "positive number is 1\n"
     ]
    }
   ],
   "source": [
    "\"\"\"\n",
    "Convert negative number into positive\n",
    "\"\"\"\n",
    "num=-1\n",
    "if num < 0:\n",
    "    num=-num\n",
    "print(\"positive number is\",num)\n"
   ]
  },
  {
   "cell_type": "code",
   "execution_count": 34,
   "id": "79becf4b-0b91-40c1-9abb-4a3e98907584",
   "metadata": {},
   "outputs": [
    {
     "name": "stdout",
     "output_type": "stream",
     "text": [
      "{'name': 'Bob', 'age': 25}\n",
      "{'name': 'David', 'age': 28}\n",
      "{'name': 'Alice', 'age': 30}\n",
      "{'name': 'Charlie', 'age': 35}\n"
     ]
    }
   ],
   "source": [
    "\"\"\"\n",
    "Create a Python program that takes a list of dictionaries\n",
    "(with keys like name, age) and sorts them by age.\n",
    "\"\"\"\n",
    "lst=[\n",
    "    {\"name\": \"Alice\", \"age\": 30},\n",
    "    {\"name\": \"Bob\", \"age\": 25},\n",
    "    {\"name\": \"Charlie\", \"age\": 35},\n",
    "    {\"name\": \"David\", \"age\": 28}\n",
    "]\n",
    "sorted_lst=sorted(lst,key=lambda x:x[\"age\"])\n",
    "for lst in sorted_lst:\n",
    "    print(lst)\n"
   ]
  },
  {
   "cell_type": "code",
   "execution_count": 35,
   "id": "21a9db18-3241-4a0e-ad2b-1910eb2a9875",
   "metadata": {},
   "outputs": [
    {
     "name": "stdout",
     "output_type": "stream",
     "text": [
      "count of vowels in the word 3\n"
     ]
    }
   ],
   "source": [
    "\"\"\"\n",
    "Counting Vowels in a Given Word\n",
    "\"\"\"\n",
    "word=\"Hello World\"\n",
    "vowels='aeiou'\n",
    "count=0\n",
    "for char in word:\n",
    "    if char in vowels:  \n",
    "        count += 1\n",
    "print(\"count of vowels in the word\",count)\n"
   ]
  },
  {
   "cell_type": "code",
   "execution_count": 36,
   "id": "1d2ba8d7-3a99-45e0-b2cf-8d51aa56303d",
   "metadata": {},
   "outputs": [
    {
     "name": "stdout",
     "output_type": "stream",
     "text": [
      "count of consonants in the word 7\n"
     ]
    }
   ],
   "source": [
    "\"\"\"\n",
    "Counting Consonants in a Given Word\n",
    "\"\"\"\n",
    "word=\"HelloWorld\"\n",
    "vowels='aeiou'\n",
    "count=0\n",
    "for char in word:\n",
    "    if char not in vowels:  \n",
    "        count += 1\n",
    "print(\"count of consonants in the word\",count)"
   ]
  },
  {
   "cell_type": "code",
   "execution_count": 37,
   "id": "25ba81e6-170f-425d-81b3-ab9ffe34baf1",
   "metadata": {},
   "outputs": [
    {
     "name": "stdout",
     "output_type": "stream",
     "text": [
      "1\n"
     ]
    }
   ],
   "source": [
    "\"\"\"\n",
    "Counting the Number of Occurances of a\n",
    "Character in a String\n",
    "\"\"\"\n",
    "string=\"Hello World\"\n",
    "char='H'\n",
    "count=0\n",
    "for i in string:\n",
    "    if i==char: \n",
    "        count += 1\n",
    "print(count)\n"
   ]
  },
  {
   "cell_type": "code",
   "execution_count": null,
   "id": "78e16305-b478-4be9-a7f4-f2891468ad8d",
   "metadata": {},
   "outputs": [],
   "source": []
  },
  {
   "cell_type": "code",
   "execution_count": null,
   "id": "b84c244d-d71f-488d-bfad-d93e9d2ef3d6",
   "metadata": {},
   "outputs": [],
   "source": []
  }
 ],
 "metadata": {
  "kernelspec": {
   "display_name": "Python 3 (ipykernel)",
   "language": "python",
   "name": "python3"
  },
  "language_info": {
   "codemirror_mode": {
    "name": "ipython",
    "version": 3
   },
   "file_extension": ".py",
   "mimetype": "text/x-python",
   "name": "python",
   "nbconvert_exporter": "python",
   "pygments_lexer": "ipython3",
   "version": "3.10.1"
  }
 },
 "nbformat": 4,
 "nbformat_minor": 5
}
